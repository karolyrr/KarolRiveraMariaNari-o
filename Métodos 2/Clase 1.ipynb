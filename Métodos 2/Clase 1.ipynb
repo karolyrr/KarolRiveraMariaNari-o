{
 "cells": [
  {
   "cell_type": "code",
   "execution_count": 1,
   "metadata": {},
   "outputs": [],
   "source": [
    "import numpy as np\n",
    "import matplotlib.pyplot as plt\n",
    "import matplotlib as mpl"
   ]
  },
  {
   "cell_type": "code",
   "execution_count": 2,
   "metadata": {},
   "outputs": [],
   "source": [
    "## Para crear una clase con objetos relacionados\n",
    "\n",
    "class Particle():\n",
    "    \n",
    "    def __init__(self, x0, v0, a0, t, m, radio, Id):   #Se trata del constructor de clase ''cómo construir el objeto''\n",
    "                                                        #Siempre lleva el self porque hace referencia al objeto en creación\n",
    "        self.dt = t[1] - t[0] #Paso del tiempo, es siempre constante\n",
    "        self.r = x0     #Inicializar atributos\n",
    "        self.v = v0  \n",
    "        self.a = a0  \n",
    "        \n",
    "        self.rVector = np.zeros( (len(t),len(x0)) )    #Inicializar una matriz\n",
    "        self.vVector = np.zeros( (len(t),len(v0)) )\n",
    "        self.aVector = np.zeros( (len(t),len(a0)) )\n",
    "        \n",
    "        self.m = m\n",
    "        self.radio = radio\n",
    "        self.Id = Id\n",
    "        \n",
    "    def Evolution(self):         #Ya es un método de la clase, con el self toma todo lo relacionado con el objeto\n",
    "        \n",
    "        #Ecuaciones diferenciales según método de Euler\n",
    "        \n",
    "        self.r += self.dt*self.v     \n",
    "        self.v += self.dt*self.a\n",
    "        \n",
    "    def setPosition(self, i, r):\n",
    "        \n",
    "        self.rVector[i] = r\n",
    "        \n",
    "    def setVelocity(self, i, v):\n",
    "        self.vVector[i] = v"
   ]
  },
  {
   "cell_type": "code",
   "execution_count": 3,
   "metadata": {},
   "outputs": [],
   "source": [
    "#Discretización - Siempre existe ya que no se puede resolver de manera continua o exacta\n",
    "\n",
    "dt = 0.01\n",
    "tmax = 40\n",
    "t = np.arange(0, tmax + dt, dt) #como un linspace pero en arrays"
   ]
  },
  {
   "cell_type": "code",
   "execution_count": 4,
   "metadata": {},
   "outputs": [
    {
     "name": "stdout",
     "output_type": "stream",
     "text": [
      "<__main__.Particle object at 0x000001587ACC2040> <__main__.Particle object at 0x000001587AD9C520>\n"
     ]
    }
   ],
   "source": [
    "## Para crear un objeto\n",
    "\n",
    "x0 = np.array([0.])     #Propiedades del objeto\n",
    "v0 = np.array([20.])\n",
    "a0 = np.array([2.])\n",
    "\n",
    "p = Particle(x0, v0, a0, t, 1, 1, 1) #Aquí es cuando se crea la partícula\n",
    "\n",
    "x0 = np.array([0.])\n",
    "\n",
    "p1 = Particle(x0, v0, a0, t, 1, 1, 1) # Aquí se crea la segunda partícula\n",
    "\n",
    "print(p, p1) #Brinda la información ''se creó un objeto que pertenece a la clase partícula y el lugar de la memoria dónde está. \n",
    "                #Van a tener direcciones distintas, permite modificar las propiedades de una sin modificar las demás"
   ]
  },
  {
   "cell_type": "code",
   "execution_count": 5,
   "metadata": {},
   "outputs": [
    {
     "data": {
      "text/plain": [
       "array([20.])"
      ]
     },
     "execution_count": 5,
     "metadata": {},
     "output_type": "execute_result"
    }
   ],
   "source": [
    "## Para llamar atributos \n",
    "\n",
    "p1.v #Solicita la velocidad, se llama no como lo que pide el constructor sino como se declara con self.bla\n",
    "        #. es un direccionador, por eso se usa para llamar atributos"
   ]
  },
  {
   "cell_type": "code",
   "execution_count": 6,
   "metadata": {},
   "outputs": [
    {
     "data": {
      "text/plain": [
       "[<matplotlib.lines.Line2D at 0x1587cf37d30>]"
      ]
     },
     "execution_count": 6,
     "metadata": {},
     "output_type": "execute_result"
    },
    {
     "data": {
      "image/png": "[encoded data removed]",
      "text/plain": [
       "<Figure size 432x288 with 1 Axes>"
      ]
     },
     "metadata": {
      "needs_background": "light"
     },
     "output_type": "display_data"
    }
   ],
   "source": [
    "##Uso de un servicio (usar método de evolución)\n",
    "\n",
    "p.Evolution()   \n",
    "\n",
    "for i in range(len(t)): #guarda las posiciones en la evolución\n",
    "    \n",
    "    p.setPosition(i,p.r)\n",
    "    p.setVelocity(i,p.v)\n",
    "    p.Evolution()\n",
    "    \n",
    "plt.plot(t,p.rVector) #Grafica la evolución temporal de r y v\n",
    "plt.plot(t,p.vVector)"
   ]
  },
  {
   "cell_type": "code",
   "execution_count": 32,
   "metadata": {},
   "outputs": [],
   "source": [
    "#Para crear varios objetos en proceso de simulación\n",
    "#Esto si ya es una función, no un método ni servicio\n",
    "\n",
    "def GetParticles(NParticles, Limit, Velo, Dim = 2, dt = 0.1):      #Genera las partículas\n",
    "    \n",
    "    Particles_ = []\n",
    "    \n",
    "    for i in range(NParticles):\n",
    "        \n",
    "        x0 = np.random.uniform(-Limit+1.0, Limit-1.0, size=Dim) #genera posiciones aleatorias de la dimensión especificada\n",
    "        v0 = np.random.uniform(-Velo, Velo, size=Dim) #x0 Tienen una tolerancia que en realidad debería ser el radio de la partícula\n",
    "        a0 = np.zeros(Dim)\n",
    "        \n",
    "        p = Particle(x0,v0,a0,t,1.,1.,i)\n",
    "        \n",
    "        Particles_.append(p)\n",
    "        \n",
    "    return Particles_     "
   ]
  },
  {
   "cell_type": "code",
   "execution_count": 37,
   "metadata": {},
   "outputs": [],
   "source": [
    "limits = np.array([20.,20.])\n",
    "Particles = GetParticles(40,limits[0],5,dt=dt)"
   ]
  },
  {
   "cell_type": "code",
   "execution_count": 40,
   "metadata": {},
   "outputs": [
    {
     "data": {
      "image/png": "[encoded data removed]",
      "text/plain": [
       "<Figure size 432x288 with 1 Axes>"
      ]
     },
     "metadata": {
      "needs_background": "light"
     },
     "output_type": "display_data"
    }
   ],
   "source": [
    "for p in Particles: \n",
    "    \n",
    "    plt.scatter(p.r[0],p.r[1])\n",
    "    plt.arrow(p.r[0],p.r[1],p.v[0],p.v[1], color='r',head_width=0.5)\n",
    "    "
   ]
  },
  {
   "cell_type": "code",
   "execution_count": null,
   "metadata": {},
   "outputs": [],
   "source": []
  },
  {
   "cell_type": "code",
   "execution_count": null,
   "metadata": {},
   "outputs": [],
   "source": []
  }
 ],
 "metadata": {
  "kernelspec": {
   "display_name": "Python 3",
   "language": "python",
   "name": "python3"
  },
  "language_info": {
   "codemirror_mode": {
    "name": "ipython",
    "version": 3
   },
   "file_extension": ".py",
   "mimetype": "text/x-python",
   "name": "python",
   "nbconvert_exporter": "python",
   "pygments_lexer": "ipython3",
   "version": "3.8.5"
  }
 },
 "nbformat": 4,
 "nbformat_minor": 4
}
